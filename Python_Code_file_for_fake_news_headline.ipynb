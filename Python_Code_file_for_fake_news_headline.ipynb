{
 "cells": [
  {
   "cell_type": "code",
   "execution_count": 5,
   "id": "1dd2808c",
   "metadata": {},
   "outputs": [
    {
     "name": "stdout",
     "output_type": "stream",
     "text": [
      "\n",
      " Priyanka Chopra eating frog near metro station\n",
      "\n",
      " Sachin Tendulkar was beaten by monkeys near kolkata parks\n",
      "\n",
      " Donald Trump was drinking soda near kolkata parks\n",
      "\n",
      "Good bye!\n"
     ]
    }
   ],
   "source": [
    "import random\n",
    "\n",
    "subject = [\n",
    "    \"Salman Khan\",\n",
    "    \"Amit Shah\",\n",
    "    \"Priyanka Chopra\",\n",
    "    \"Sachin Tendulkar\",\n",
    "    \"Donald Trump\"\n",
    "]\n",
    "\n",
    "activity = [\n",
    "    \"was dancing on the street\",\n",
    "    \"was beaten by monkeys\",\n",
    "    \"was buying buffalo\",\n",
    "    \"was drinking soda\",\n",
    "    \"eating frog\"\n",
    "]\n",
    "\n",
    "locations =[\n",
    "    \"near metro station\",\n",
    "    \"in Jaipur\",\n",
    "    \"near kormangla Bangalore\",\n",
    "    \"at India Gate\",\n",
    "    \"near kolkata parks\"\n",
    "]\n",
    "\n",
    "while True:\n",
    "    sub = random.choice(subject)\n",
    "    act = random.choice(activity)\n",
    "    loc = random.choice(locations)\n",
    "\n",
    "    print(\"\\n\", f\"{sub} {act} {loc}\")\n",
    "\n",
    "    user_input= input(\"yes/no: \" ).strip().lower()\n",
    "\n",
    "    if user_input==\"no\":\n",
    "        print(\"\\n\"\"Good bye!\")\n",
    "        break"
   ]
  }
 ],
 "metadata": {
  "kernelspec": {
   "display_name": "Python 3",
   "language": "python",
   "name": "python3"
  },
  "language_info": {
   "codemirror_mode": {
    "name": "ipython",
    "version": 3
   },
   "file_extension": ".py",
   "mimetype": "text/x-python",
   "name": "python",
   "nbconvert_exporter": "python",
   "pygments_lexer": "ipython3",
   "version": "3.13.7"
  }
 },
 "nbformat": 4,
 "nbformat_minor": 5
}
